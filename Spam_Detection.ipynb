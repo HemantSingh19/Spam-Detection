{
 "cells": [
  {
   "cell_type": "code",
   "execution_count": 184,
   "metadata": {},
   "outputs": [],
   "source": [
    "import spacy\n",
    "import pandas as pd\n",
    "nlp = spacy.load('en_core_web_sm')\n",
    "import re\n",
    "import emoji\n",
    "from sklearn.feature_extraction.text import TfidfVectorizer\n",
    "from sklearn.model_selection import train_test_split\n",
    "from sklearn.linear_model import LogisticRegression\n",
    "import matplotlib.pyplot as plt\n",
    "from sklearn.metrics import accuracy_score, recall_score, precision_score, classification_report,confusion_matrix, f1_score, roc_auc_score"
   ]
  },
  {
   "cell_type": "code",
   "execution_count": 141,
   "metadata": {},
   "outputs": [],
   "source": [
    "path = r'C:\\Users\\pohiy\\Desktop\\Datasets\\SPAM text message 20170820 - Data.csv'\n",
    "df =pd.read_csv(path)"
   ]
  },
  {
   "cell_type": "markdown",
   "metadata": {},
   "source": []
  },
  {
   "cell_type": "code",
   "execution_count": 143,
   "metadata": {},
   "outputs": [
    {
     "name": "stdout",
     "output_type": "stream",
     "text": [
      "(5572, 2)\n",
      "  Category                                            Message\n",
      "0      ham  Go until jurong point, crazy.. Available only ...\n",
      "1      ham                      Ok lar... Joking wif u oni...\n",
      "2     spam  Free entry in 2 a wkly comp to win FA Cup fina...\n",
      "3      ham  U dun say so early hor... U c already then say...\n",
      "4      ham  Nah I don't think he goes to usf, he lives aro...\n"
     ]
    }
   ],
   "source": [
    "print(df.shape)\n",
    "print(df.head())\n"
   ]
  },
  {
   "cell_type": "code",
   "execution_count": 144,
   "metadata": {},
   "outputs": [],
   "source": [
    "# Lowercasing\n",
    "def lowercasing(df , column_name):\n",
    "    df[column_name] = df[column_name].str.lower()\n",
    "    return df\n",
    "\n",
    "# Removing punctuation\n",
    "def removing_punction(df , column_name):\n",
    "    pattern = r'[^\\w\\s]'\n",
    "    df[column_name] = df[column_name].apply(lambda x: re.sub(pattern, '', x))\n",
    "    return df\n",
    "\n",
    "# Remove URLS\n",
    "def remove_url(df , column_name):\n",
    "    url_pattern = r'http[s]?://\\S+|www\\.\\S+'\n",
    "    df[column_name] = df[column_name].apply(lambda x: re.sub(url_pattern, '', x))\n",
    "    return df\n",
    "    \n",
    "# Removing numbers  \n",
    "def remove_numbers(df, column_name):\n",
    "    pattern =r'\\d+'\n",
    "    df[column_name] = df[column_name].apply(lambda x: re.sub(pattern, '', x))\n",
    "    return df\n",
    "\n",
    "# Removing stop words\n",
    "def remove_stop_words(df, column_name):\n",
    "    def remove_stops(text):\n",
    "        doc = nlp(text)\n",
    "        filtered_text = [token.text for token in doc if not token.is_stop]\n",
    "        return ' '.join(filtered_text)\n",
    "    df[column_name] = df[column_name].apply(remove_stops)\n",
    "    return df\n",
    "\n",
    "# Lemmatization\n",
    "def lemmatization(df , column_name):\n",
    "    def lemmatize(text):\n",
    "        doc = nlp(text)\n",
    "        return ' '.join([token.lemma_ for token in doc])\n",
    "    df[column_name] = df[column_name].apply(lemmatize) \n",
    "    return df   \n",
    "    \n",
    "def convert_emojis_and_emoticons(df , column_name):\n",
    "    def convert(text):\n",
    "        text_with_emojis = emoji.demojize(text)\n",
    "        emoticon_dict={\n",
    "            ':)': 'smiling face',\n",
    "            ':(': 'sad face',\n",
    "            ':D': 'grinning face',\n",
    "            ':P': 'playful face',\n",
    "            ':-)': 'smiling face',\n",
    "            ':-(': 'sad face',\n",
    "            ':-D': 'grinning face',\n",
    "            ':-P': 'playful face'\n",
    "        }\n",
    "        for emoticons, representation in emoticon_dict.items():\n",
    "            text_with_emojis = text_with_emojis.replace(emoticons, representation)\n",
    "            return text_with_emojis\n",
    "    df[column_name] = df[column_name].apply(convert)\n",
    "    return df\n",
    "\n",
    "    \n",
    "# vectorization\n",
    "def vectorization(df , column_name):\n",
    "    tfidf_vectorizer = TfidfVectorizer(tokenizer=lambda x: x.split(), lowercase = False)\n",
    "    vectorized_data = tfidf_vectorizer.fit_transform(df[column_name])\n",
    "    return vectorized_data, tfidf_vectorizer\n"
   ]
  },
  {
   "cell_type": "code",
   "execution_count": 145,
   "metadata": {},
   "outputs": [
    {
     "data": {
      "text/html": [
       "<div>\n",
       "<style scoped>\n",
       "    .dataframe tbody tr th:only-of-type {\n",
       "        vertical-align: middle;\n",
       "    }\n",
       "\n",
       "    .dataframe tbody tr th {\n",
       "        vertical-align: top;\n",
       "    }\n",
       "\n",
       "    .dataframe thead th {\n",
       "        text-align: right;\n",
       "    }\n",
       "</style>\n",
       "<table border=\"1\" class=\"dataframe\">\n",
       "  <thead>\n",
       "    <tr style=\"text-align: right;\">\n",
       "      <th></th>\n",
       "      <th>Category</th>\n",
       "      <th>Message</th>\n",
       "    </tr>\n",
       "  </thead>\n",
       "  <tbody>\n",
       "    <tr>\n",
       "      <th>0</th>\n",
       "      <td>ham</td>\n",
       "      <td>Go until jurong point, crazy.. Available only ...</td>\n",
       "    </tr>\n",
       "    <tr>\n",
       "      <th>1</th>\n",
       "      <td>ham</td>\n",
       "      <td>Ok lar... Joking wif u oni...</td>\n",
       "    </tr>\n",
       "    <tr>\n",
       "      <th>2</th>\n",
       "      <td>spam</td>\n",
       "      <td>Free entry in 2 a wkly comp to win FA Cup fina...</td>\n",
       "    </tr>\n",
       "    <tr>\n",
       "      <th>3</th>\n",
       "      <td>ham</td>\n",
       "      <td>U dun say so early hor... U c already then say...</td>\n",
       "    </tr>\n",
       "    <tr>\n",
       "      <th>4</th>\n",
       "      <td>ham</td>\n",
       "      <td>Nah I don't think he goes to usf, he lives aro...</td>\n",
       "    </tr>\n",
       "  </tbody>\n",
       "</table>\n",
       "</div>"
      ],
      "text/plain": [
       "  Category                                            Message\n",
       "0      ham  Go until jurong point, crazy.. Available only ...\n",
       "1      ham                      Ok lar... Joking wif u oni...\n",
       "2     spam  Free entry in 2 a wkly comp to win FA Cup fina...\n",
       "3      ham  U dun say so early hor... U c already then say...\n",
       "4      ham  Nah I don't think he goes to usf, he lives aro..."
      ]
     },
     "execution_count": 145,
     "metadata": {},
     "output_type": "execute_result"
    }
   ],
   "source": [
    "df.head()"
   ]
  },
  {
   "cell_type": "code",
   "execution_count": 146,
   "metadata": {},
   "outputs": [
    {
     "name": "stdout",
     "output_type": "stream",
     "text": [
      "Lowerrcasing done ------------------------------->\n",
      "Puncatuations has been removed ------------------------------->\n",
      "URLs from text have been removed----------------------------->\n",
      "Numbers have removed-------------------------------->\n",
      "Stopwords have been removed----------------------------------->\n",
      "Emojis and emoticos have been converted into text-------------------------------->\n"
     ]
    }
   ],
   "source": [
    "df_lowercase = lowercasing(df, 'Message')\n",
    "print(\"Lowerrcasing done ------------------------------->\")\n",
    "df_p = removing_punction(df, 'Message')\n",
    "print('Puncatuations has been removed ------------------------------->')\n",
    "df_rem_url = remove_url(df_p, 'Message')\n",
    "print(\"URLs from text have been removed----------------------------->\")\n",
    "df_rem_num = remove_numbers(df_rem_url, 'Message')\n",
    "print(\"Numbers have removed-------------------------------->\")\n",
    "df_rem_stops = remove_stop_words(df_rem_num, 'Message')\n",
    "print(\"Stopwords have been removed----------------------------------->\")\n",
    "def_rem_emo = convert_emojis_and_emoticons(df_rem_stops, 'Message')\n",
    "print('Emojis and emoticos have been converted into text-------------------------------->')\n",
    "\n",
    "\n",
    "df_lemma = lemmatization(def_rem_emo, 'Message')\n",
    "print(\"lemmatization done------------------------------->\")\n"
   ]
  },
  {
   "cell_type": "code",
   "execution_count": 172,
   "metadata": {},
   "outputs": [
    {
     "name": "stdout",
     "output_type": "stream",
     "text": [
      "  Category                                            Message\n",
      "0      ham  jurong point crazy available bugis n great wor...\n",
      "1      ham                              ok lar joke wif u oni\n",
      "2     spam  free entry    wkly comp win fa cup final tkts ...\n",
      "3      ham                                u dun early hor u c\n",
      "4      ham                          nah not think go usf life\n",
      "Index(['ham', 'spam'], dtype='object', name='Category')\n",
      "[4825  747]\n"
     ]
    },
    {
     "data": {
      "image/png": "[encoded data removed]",
      "text/plain": [
       "<Figure size 640x480 with 1 Axes>"
      ]
     },
     "metadata": {},
     "output_type": "display_data"
    }
   ],
   "source": [
    "print(df.head())\n",
    "val_count = df.Category.value_counts()\n",
    "print(val_count.index)\n",
    "print(val_count.values)\n",
    "\n",
    "plt.bar(val_count.index, val_count.values)\n",
    "plt.xlabel(\"Categories\",)\n",
    "plt.ylabel(\"Count\")\n",
    "plt.show()"
   ]
  },
  {
   "cell_type": "code",
   "execution_count": 173,
   "metadata": {},
   "outputs": [],
   "source": [
    "df['Category'] = df['Category'].map({'ham':0,'spam':1})"
   ]
  },
  {
   "cell_type": "code",
   "execution_count": 174,
   "metadata": {},
   "outputs": [
    {
     "data": {
      "text/html": [
       "<div>\n",
       "<style scoped>\n",
       "    .dataframe tbody tr th:only-of-type {\n",
       "        vertical-align: middle;\n",
       "    }\n",
       "\n",
       "    .dataframe tbody tr th {\n",
       "        vertical-align: top;\n",
       "    }\n",
       "\n",
       "    .dataframe thead th {\n",
       "        text-align: right;\n",
       "    }\n",
       "</style>\n",
       "<table border=\"1\" class=\"dataframe\">\n",
       "  <thead>\n",
       "    <tr style=\"text-align: right;\">\n",
       "      <th></th>\n",
       "      <th>Category</th>\n",
       "      <th>Message</th>\n",
       "    </tr>\n",
       "  </thead>\n",
       "  <tbody>\n",
       "    <tr>\n",
       "      <th>0</th>\n",
       "      <td>0</td>\n",
       "      <td>jurong point crazy available bugis n great wor...</td>\n",
       "    </tr>\n",
       "    <tr>\n",
       "      <th>1</th>\n",
       "      <td>0</td>\n",
       "      <td>ok lar joke wif u oni</td>\n",
       "    </tr>\n",
       "    <tr>\n",
       "      <th>2</th>\n",
       "      <td>1</td>\n",
       "      <td>free entry    wkly comp win fa cup final tkts ...</td>\n",
       "    </tr>\n",
       "    <tr>\n",
       "      <th>3</th>\n",
       "      <td>0</td>\n",
       "      <td>u dun early hor u c</td>\n",
       "    </tr>\n",
       "    <tr>\n",
       "      <th>4</th>\n",
       "      <td>0</td>\n",
       "      <td>nah not think go usf life</td>\n",
       "    </tr>\n",
       "  </tbody>\n",
       "</table>\n",
       "</div>"
      ],
      "text/plain": [
       "   Category                                            Message\n",
       "0         0  jurong point crazy available bugis n great wor...\n",
       "1         0                              ok lar joke wif u oni\n",
       "2         1  free entry    wkly comp win fa cup final tkts ...\n",
       "3         0                                u dun early hor u c\n",
       "4         0                          nah not think go usf life"
      ]
     },
     "execution_count": 174,
     "metadata": {},
     "output_type": "execute_result"
    }
   ],
   "source": [
    "df.head()"
   ]
  },
  {
   "cell_type": "code",
   "execution_count": 176,
   "metadata": {},
   "outputs": [
    {
     "name": "stderr",
     "output_type": "stream",
     "text": [
      "c:\\Users\\pohiy\\AppData\\Local\\Programs\\Python\\Python312\\Lib\\site-packages\\sklearn\\feature_extraction\\text.py:521: UserWarning: The parameter 'token_pattern' will not be used since 'tokenizer' is not None'\n",
      "  warnings.warn(\n"
     ]
    }
   ],
   "source": [
    "X_vectorized_data, vectorizer = vectorization(df_lemma, 'Message')\n",
    "\n",
    "\n",
    "X_train, X_test, y_train, y_test = train_test_split(X_vectorized_data, df['Category'], test_size=0.2, random_state=42)\n",
    "model = LogisticRegression()\n",
    "model.fit(X_train, y_train)\n"
   ]
  },
  {
   "cell_type": "code",
   "execution_count": 183,
   "metadata": {},
   "outputs": [],
   "source": [
    "y_pred = model.predict(X_test)\n"
   ]
  },
  {
   "cell_type": "code",
   "execution_count": 186,
   "metadata": {},
   "outputs": [
    {
     "name": "stdout",
     "output_type": "stream",
     "text": [
      "Accuracy Score= 0.9623318385650225\n",
      "Recall Score= 0.7181208053691275\n",
      "Precision Score= 1.0\n",
      "F1 Score= 0.8359375\n",
      "Roc auc= 0.8590604026845637\n",
      "Confision matrix=\n",
      " [[966   0]\n",
      " [ 42 107]]\n"
     ]
    }
   ],
   "source": [
    "print('Accuracy Score=', accuracy_score(y_test, y_pred))\n",
    "print('Recall Score=', recall_score(y_test, y_pred))\n",
    "print('Precision Score=', precision_score(y_test, y_pred))\n",
    "print('F1 Score=', f1_score(y_test, y_pred))\n",
    "print('Roc auc=', roc_auc_score(y_test, y_pred))\n",
    "print('Confision matrix=\\n', confusion_matrix(y_test, y_pred))\n"
   ]
  }
 ],
 "metadata": {
  "kernelspec": {
   "display_name": "Python 3",
   "language": "python",
   "name": "python3"
  },
  "language_info": {
   "codemirror_mode": {
    "name": "ipython",
    "version": 3
   },
   "file_extension": ".py",
   "mimetype": "text/x-python",
   "name": "python",
   "nbconvert_exporter": "python",
   "pygments_lexer": "ipython3",
   "version": "3.12.6"
  }
 },
 "nbformat": 4,
 "nbformat_minor": 2
}
